{
 "cells": [
  {
   "cell_type": "code",
   "execution_count": 10,
   "metadata": {
    "collapsed": false
   },
   "outputs": [],
   "source": [
    "import facebook\n",
    "\n",
    "def main():\n",
    "    # Fill in the values noted in previous steps here\n",
    "    cfg = {\n",
    "    \"page_id\"      : \"153439661976649\",  # Step 1\n",
    "    \"access_token\" : \"EAACLjXSL7EkBANeQ2ZBNP5HE9daM2zZCAI7pugrQoOU8qiRUDwu6haS25CGJPWDy68d5dhWuRvszxZAUZCHUfh9K3ZAjuJOzIO9hlHrpGv0QPkaG1qVpTuirqzvND07quqKSu1GBFRxV3ZAc9bZBBFSiY5iZBZBbl4RTnTHSHZAGazGwZDZD\"   # Step 3\n",
    "    }\n",
    "\n",
    "    api = get_api(cfg)\n",
    "    msg = \"Hello, Its Working!\"\n",
    "    #msg = u'Hello there @[' + \"832687276\" + u']'\n",
    "    status = api.put_wall_post(msg)\n",
    "\n",
    "def get_api(cfg):\n",
    "    graph = facebook.GraphAPI(cfg['access_token'])\n",
    "    # Get page token to post as the page. You can skip \n",
    "    # the following if you want to post as yourself. \n",
    "    resp = graph.get_object('me/accounts')\n",
    "    \n",
    "    page_access_token = None\n",
    "    \n",
    "    #page['id']=\"153439661976649\"\n",
    "    page_access_token=\"EAACLjXSL7EkBANeQ2ZBNP5HE9daM2zZCAI7pugrQoOU8qiRUDwu6haS25CGJPWDy68d5dhWuRvszxZAUZCHUfh9K3ZAjuJOzIO9hlHrpGv0QPkaG1qVpTuirqzvND07quqKSu1GBFRxV3ZAc9bZBBFSiY5iZBZBbl4RTnTHSHZAGazGwZDZD\"\n",
    "    \n",
    "    #for page in resp['data']:\n",
    "    #    if page['id'] == cfg['page_id']:\n",
    "    #        page_access_token = page['access_token']\n",
    "    \n",
    "    graph = facebook.GraphAPI(page_access_token)\n",
    "    return graph\n",
    "    # You can also skip the above if you get a page token:\n",
    "    # http://stackoverflow.com/questions/8231877/facebook-access-token-for-pages\n",
    "    # and make that long-lived token as in Step 3\n",
    "\n",
    "if __name__ == \"__main__\":\n",
    "  main()"
   ]
  },
  {
   "cell_type": "code",
   "execution_count": 22,
   "metadata": {
    "collapsed": false
   },
   "outputs": [
    {
     "name": "stdout",
     "output_type": "stream",
     "text": [
      "········\n"
     ]
    },
    {
     "name": "stderr",
     "output_type": "stream",
     "text": [
      "Logging in shashank.kava...\n",
      "Login of shashank.kava successful.\n"
     ]
    },
    {
     "name": "stdout",
     "output_type": "stream",
     "text": [
      "Own id: 832687276\n"
     ]
    },
    {
     "data": {
      "text/plain": [
       "True"
      ]
     },
     "execution_count": 22,
     "metadata": {},
     "output_type": "execute_result"
    }
   ],
   "source": [
    "from fbchat import Client\n",
    "from fbchat.models import *\n",
    "from getpass import getpass\n",
    "\n",
    "client = Client(\"shashank.kava\", getpass())\n",
    "\n",
    "print('Own id: {}'.format(client.uid))\n",
    "\n",
    "client.send(Message(text='Chat kaam kar gaya!'), thread_id=\"605736390\", thread_type=ThreadType.USER)\n",
    "\n",
    "client.logout()"
   ]
  },
  {
   "cell_type": "code",
   "execution_count": 26,
   "metadata": {
    "collapsed": false
   },
   "outputs": [
    {
     "name": "stdout",
     "output_type": "stream",
     "text": [
      "{u'data': [], u'summary': {u'total_count': 1616}}\n"
     ]
    }
   ],
   "source": [
    "import facebook\n",
    "import requests\n",
    "\n",
    "access_token=\"EAACLjXSL7EkBABJ7utCVYY5a75UK5rGeQZBrUZCzmLkXmDB3VrZAGZAPi3N4ZA6gNiL9gM4pYLWOPYSqRokQnENkSCOaVRWhBJMx1wGXcvfOr5g2dfc2XKamZCzoTw9LdZBin2qjZBlAxVPGUcHSVgmePjFZADB6ZC7oKuzOwqu9KC8zOVDFAq62IBRet8vWZBYGlZAyfqozY6f5fQZDZD\"\n",
    "\n",
    "graph = facebook.GraphAPI(access_token)\n",
    "friends = graph.get_object(\"me/friends\")\n",
    "\n",
    "print friends\n",
    "\n",
    "#for friend in friends['data']:\n",
    "#    print \"{0} has id {1}\".format(friend['name'].encode('utf-8'), friend['id'])"
   ]
  }
 ],
 "metadata": {
  "kernelspec": {
   "display_name": "Python 2",
   "language": "python",
   "name": "python2"
  },
  "language_info": {
   "codemirror_mode": {
    "name": "ipython",
    "version": 2
   },
   "file_extension": ".py",
   "mimetype": "text/x-python",
   "name": "python",
   "nbconvert_exporter": "python",
   "pygments_lexer": "ipython2",
   "version": "2.7.13"
  }
 },
 "nbformat": 4,
 "nbformat_minor": 2
}
