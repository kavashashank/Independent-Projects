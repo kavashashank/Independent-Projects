{
 "cells": [
  {
   "cell_type": "code",
   "execution_count": 21,
   "metadata": {
    "collapsed": false
   },
   "outputs": [
    {
     "name": "stdout",
     "output_type": "stream",
     "text": [
      "········\n",
      "Request return 429 error!\n",
      "{u'status': u'fail', u'message': u'Please wait a few minutes before you try again.'}\n",
      "Login success!\n",
      "\n"
     ]
    },
    {
     "data": {
      "text/plain": [
       "True"
      ]
     },
     "execution_count": 21,
     "metadata": {},
     "output_type": "execute_result"
    }
   ],
   "source": [
    "#import packages\n",
    "\n",
    "from getpass import getpass\n",
    "from InstagramAPI import InstagramAPI\n",
    "\n",
    "api = InstagramAPI(\"kava.shashank\", getpass())\n",
    "api.login()  # login"
   ]
  },
  {
   "cell_type": "code",
   "execution_count": 33,
   "metadata": {
    "collapsed": false
   },
   "outputs": [
    {
     "name": "stdout",
     "output_type": "stream",
     "text": [
      "198\n"
     ]
    }
   ],
   "source": [
    "api.tagFeed(\"indvssa\")  # get media list by tag #cat\n",
    "media_id = api.LastJson  # last response JSON\n",
    "\n",
    "is_prv=media_id[\"ranked_items\"][0][\"user\"][\"is_private\"]\n",
    "\n",
    "if is_prv == True:\n",
    "    print \"Cannot get the followers list\"\n",
    "else:\n",
    "    #print media_id[\"ranked_items\"][0][\"user\"]\n",
    "    #api.getUserFollowers(media_id[\"ranked_items\"][0][\"user\"][\"pk\"])  # get first media owner followers\n"
   ]
  }
 ],
 "metadata": {
  "kernelspec": {
   "display_name": "Python 2",
   "language": "python",
   "name": "python2"
  },
  "language_info": {
   "codemirror_mode": {
    "name": "ipython",
    "version": 2
   },
   "file_extension": ".py",
   "mimetype": "text/x-python",
   "name": "python",
   "nbconvert_exporter": "python",
   "pygments_lexer": "ipython2",
   "version": "2.7.13"
  }
 },
 "nbformat": 4,
 "nbformat_minor": 2
}
